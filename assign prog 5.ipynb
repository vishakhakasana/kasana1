{
 "cells": [
  {
   "cell_type": "code",
   "execution_count": 1,
   "id": "5981e588",
   "metadata": {},
   "outputs": [
    {
     "name": "stdout",
     "output_type": "stream",
     "text": [
      "enter the first number24\n",
      "enter the second number42\n",
      "Lcm of 24 and 42 is 168\n"
     ]
    }
   ],
   "source": [
    "# write program to find lcm ?\n",
    "a=int(input(\"enter the first number\"))\n",
    "b=int(input(\"enter the second number\"))\n",
    "maxnum=max(a,b)\n",
    "while(True):\n",
    "    if (maxnum%a==0 and maxnum%b==0):\n",
    "        break\n",
    "    maxnum=maxnum+1\n",
    "print(f\"Lcm of {a} and {b} is {maxnum}\")   "
   ]
  },
  {
   "cell_type": "code",
   "execution_count": 2,
   "id": "49342fd6",
   "metadata": {},
   "outputs": [
    {
     "name": "stdout",
     "output_type": "stream",
     "text": [
      "enter the first number42\n",
      "enter second number56\n",
      "HCF is: 14\n"
     ]
    }
   ],
   "source": [
    "# write python program to find hcf?\n",
    "a=int(input(\"enter the first number\"))\n",
    "b=int(input(\"enter second number\"))\n",
    "i=1\n",
    "while(i<=a  and i<=b):\n",
    "    if(a%i==0 and b%i==0):\n",
    "        hcf=i\n",
    "    i=i+1\n",
    "print(\"HCF is:\", hcf)   "
   ]
  },
  {
   "cell_type": "code",
   "execution_count": 3,
   "id": "b8e95875",
   "metadata": {},
   "outputs": [
    {
     "name": "stdout",
     "output_type": "stream",
     "text": [
      "enter decimal number: 14\n",
      "14 equal to 0b1110 in binary number\n",
      "14 equal to 0o16 in octal number\n",
      "14 equal to 0xe in hexadecimal number\n"
     ]
    }
   ],
   "source": [
    "# write python program to convert decimal to binary ,octal and hexadecimal? \n",
    "d=int(input(\"enter decimal number: \"))\n",
    "print(d,\"equal to\",bin(d),\"in binary number\")\n",
    "print(d,\"equal to\",oct(d),\"in octal number\")\n",
    "print(d,\"equal to\",hex(d),\"in hexadecimal number\")"
   ]
  },
  {
   "cell_type": "code",
   "execution_count": 8,
   "id": "4749914e",
   "metadata": {},
   "outputs": [
    {
     "name": "stdout",
     "output_type": "stream",
     "text": [
      "enter the character: kasana\n",
      " ASCII value is  107\n",
      " ASCII value is  97\n",
      " ASCII value is  115\n",
      " ASCII value is  97\n",
      " ASCII value is  110\n",
      " ASCII value is  97\n"
     ]
    }
   ],
   "source": [
    "# write python program to find ASCII value of a character?\n",
    "char=(input(\"enter the character: \"))\n",
    "for i in char:\n",
    "    print(\" ASCII value is \",ord(i),)"
   ]
  },
  {
   "cell_type": "code",
   "execution_count": 14,
   "id": "73bf5ad7",
   "metadata": {},
   "outputs": [
    {
     "name": "stdout",
     "output_type": "stream",
     "text": [
      "enter first number5\n",
      "enter second number15\n",
      "20\n",
      "-10\n",
      "75\n",
      "0\n"
     ]
    }
   ],
   "source": [
    "# write python program  to make a simple calculator with 4 basic mathematical operations?\n",
    "n1=int(input(\"enter first number\"))\n",
    "n2=int(input(\"enter second number\"))\n",
    "add=int(n1+n2)\n",
    "sub=int(n1-n2)\n",
    "mul=int(n1*n2)\n",
    "div=int(n1/n2)\n",
    "print(add)\n",
    "print(sub)\n",
    "print(mul)\n",
    "print(div)\n"
   ]
  }
 ],
 "metadata": {
  "kernelspec": {
   "display_name": "Python 3 (ipykernel)",
   "language": "python",
   "name": "python3"
  },
  "language_info": {
   "codemirror_mode": {
    "name": "ipython",
    "version": 3
   },
   "file_extension": ".py",
   "mimetype": "text/x-python",
   "name": "python",
   "nbconvert_exporter": "python",
   "pygments_lexer": "ipython3",
   "version": "3.9.7"
  }
 },
 "nbformat": 4,
 "nbformat_minor": 5
}
