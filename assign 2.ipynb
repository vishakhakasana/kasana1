{
 "cells": [
  {
   "cell_type": "code",
   "execution_count": null,
   "id": "87a63cab",
   "metadata": {},
   "outputs": [],
   "source": [
    "1... what are the two values of boolean data types? how do you write them?\n",
    "     The twonvalues are: true or false(boolean literals)  on or off\n",
    "     for example: 1==0 is true whereas 2<1 is false."
   ]
  },
  {
   "cell_type": "code",
   "execution_count": null,
   "id": "f058b4e3",
   "metadata": {},
   "outputs": [],
   "source": [
    "2...what are the three different types of boolean operators?\n",
    "    The three basic boolean operators are: AND,OR,NOT."
   ]
  },
  {
   "cell_type": "code",
   "execution_count": null,
   "id": "3fe128dc",
   "metadata": {},
   "outputs": [],
   "source": [
    "3... make a list of each boolean operators truth table(i.e.every posible combination of boolean values for the operators and it     evaluate.\n",
    "    THE three operators:AND,OR,NOT.\n",
    "     AND GATE : A  B  Q\n",
    "                0  0  0\n",
    "                0  1  0\n",
    "                1  0  0\n",
    "                1  1  1\n",
    "       BOLLEAN EXPRESSION Q=A.B\n",
    "    \n",
    "    OR GATE:    A  B  Q\n",
    "                0  0  0\n",
    "                0  1  1\n",
    "                1  0  1\n",
    "                1  1  1\n",
    "                \n",
    "        BOLEAN EXPRESSION Q=A+B\n",
    "        \n",
    "     NOT GATE:  A  Q\n",
    "                0  1\n",
    "                1  0\n",
    "                \n",
    "       BOLLEAN EXPRESSION Q= NOT A\n",
    "    "
   ]
  },
  {
   "cell_type": "code",
   "execution_count": null,
   "id": "01ebdabc",
   "metadata": {},
   "outputs": [],
   "source": [
    "4... what are the values of following expressions?\n",
    "     (5>4)and(3==5)...false\n",
    "      not(5>4)...false\n",
    "      (5>4)or(3==5)...true\n",
    "       (true and true)and(true==false)....false\n",
    "        (not false)or(not true)...true"
   ]
  },
  {
   "cell_type": "code",
   "execution_count": null,
   "id": "67f014ec",
   "metadata": {},
   "outputs": [],
   "source": [
    "5... what are the six comparison operators?\n",
    "     There are six comparison operators : equal to,not equal to,greater then,greater then or equal to,less then,less then or          equal to."
   ]
  },
  {
   "cell_type": "code",
   "execution_count": null,
   "id": "4602755a",
   "metadata": {},
   "outputs": [],
   "source": [
    "6...How do you tell the difference between the equal to and assignment operators? describe the condition  and when you would use     one.\n",
    "    the \"=\" is an assignment operators  and is used to assign the result  of the expression on the right side of the operator to the variable on the left side. \n",
    "    the \"==\" is check wheather two expression on both side are equal or not.\n",
    "    A condition is an expression used in a flow control statement that evaluates to a boolean value."
   ]
  },
  {
   "cell_type": "code",
   "execution_count": null,
   "id": "5acd7cc4",
   "metadata": {},
   "outputs": [],
   "source": [
    "7...identify the three blocks in the code:\n",
    "    spam = 0\n",
    "    if spam == 10:\n",
    "        print('eggs')\n",
    "        if spam>5:\n",
    "         print('bacon')\n",
    "    else:\n",
    "         print('ham')\n",
    "         print('spam')\n",
    "         print('spam')\n",
    "         \n",
    "the three blocks are everthing inside the if statement and the lines.\n",
    "         print('bacon') and print('ham').\n",
    "         print('eggs')\n",
    "         if spam>5:\n",
    "             print('bacon')\n",
    "        else:\n",
    "            print('ham')\n",
    "            print('spam')\"        "
   ]
  },
  {
   "cell_type": "code",
   "execution_count": null,
   "id": "12a8dd03",
   "metadata": {},
   "outputs": [],
   "source": [
    "8... write code that prints Hello if 1 is stored in spam ,printd howdy if 2 is stored in spam ,and prints Greeting! if anything else is stored in spam.\n",
    "    \n",
    "    spam = input()\n",
    "    if spam == 1:\n",
    "        print('Hello')\n",
    "    elif spam == 2:\n",
    "        print('Howdy')\n",
    "    else:\n",
    "        print('Greeting!')"
   ]
  },
  {
   "cell_type": "code",
   "execution_count": null,
   "id": "62e2d023",
   "metadata": {},
   "outputs": [],
   "source": [
    "9... if your program is stuck in an endless loop,what keys you'll press?\n",
    "     ctrl+c where c stands for cancel."
   ]
  },
  {
   "cell_type": "code",
   "execution_count": null,
   "id": "b3dbc2bf",
   "metadata": {},
   "outputs": [],
   "source": [
    "10...how you can tell the diffeernce between break and continue?\n",
    "     The break statement is usually used with the switch statement,and it can also use it within the while loop,do while loop,or the for loop. the continue statement is not used with the switch statement,but it canbe used within the while loop,do while loop,or ffor loop.\n",
    "    syntex:BREAK.. break;\n",
    "           CONTINUE..continue;\n",
    "     break helps to terminate the execution of the loop\n",
    "     continue helps to skip statements inside the loop."
   ]
  },
  {
   "cell_type": "code",
   "execution_count": null,
   "id": "5f337730",
   "metadata": {},
   "outputs": [],
   "source": [
    "11..In a for loop,what is the difference between range(10),range(0,10),and range(0,10,1)?\n",
    "    They do all same thing\n",
    "    range(10) call range 0 1 2 3 4 5 6 7 8 9.\n",
    "    range(0,10) call range 0 1 2 3 4 5 6 7 8 9.\n",
    "    range(0,10,1) tells the loop to increase the variable by 1 on each iteratioNn."
   ]
  },
  {
   "cell_type": "code",
   "execution_count": null,
   "id": "d65ebd36",
   "metadata": {},
   "outputs": [],
   "source": [
    "12..Write the short  program that prints the number 1 to 10 using   for loop.then  write  an equivalent program that prints the numbers 1 to 10 using a while looP.\n",
    "\n",
    "     for i in range(1,11):\n",
    "        print(i)\n",
    "  output\n",
    "  1\n",
    "  2\n",
    "  3\n",
    "  4\n",
    "  5\n",
    "  6\n",
    "  7\n",
    "  8\n",
    "  9\n",
    "  10\n",
    "  \n",
    "  \n",
    "  i=1\n",
    "  while(i<=10):\n",
    "  print(i)\n",
    "  i+=1\n",
    "  \n",
    "output\n",
    "1\n",
    "2\n",
    "3\n",
    "4\n",
    "5\n",
    "6\n",
    "7\n",
    "8\n",
    "9\n",
    "10"
   ]
  },
  {
   "cell_type": "code",
   "execution_count": null,
   "id": "080b6fb1",
   "metadata": {},
   "outputs": [],
   "source": [
    "13..If u had a function named bacon() inside a module named spam,how spam,how would you call it after importing spam\n",
    "    This function can be  called with spam. bacon()."
   ]
  }
 ],
 "metadata": {
  "kernelspec": {
   "display_name": "Python 3 (ipykernel)",
   "language": "python",
   "name": "python3"
  },
  "language_info": {
   "codemirror_mode": {
    "name": "ipython",
    "version": 3
   },
   "file_extension": ".py",
   "mimetype": "text/x-python",
   "name": "python",
   "nbconvert_exporter": "python",
   "pygments_lexer": "ipython3",
   "version": "3.9.7"
  }
 },
 "nbformat": 4,
 "nbformat_minor": 5
}
