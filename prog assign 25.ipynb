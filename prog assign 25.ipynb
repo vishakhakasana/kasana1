{
 "cells": [
  {
   "cell_type": "code",
   "execution_count": 3,
   "id": "cff719c9",
   "metadata": {},
   "outputs": [
    {
     "name": "stdout",
     "output_type": "stream",
     "text": [
      "2\n",
      "3\n",
      "0\n"
     ]
    }
   ],
   "source": [
    "# Create a function that takes three integer arguments (a, b, c) and returns the amount of\n",
    "# integers which are of equal value.\n",
    "# Examples\n",
    "# equal(3, 4, 3) ➞ 2\n",
    "# equal(1, 1, 1) ➞ 3\n",
    "# equal(3, 4, 1) ➞ 0\n",
    "# Notes\n",
    "# Your function must return 0, 2 or 3.\n",
    "\n",
    "def equal(a,b,c):\n",
    "    num = 0\n",
    "    if a == b and a == c :\n",
    "        num = 3\n",
    "    elif a == b or a == c :\n",
    "        num = 2\n",
    "    else:\n",
    "        num = 0\n",
    "    return num\n",
    "print(equal(3, 4, 3))\n",
    "print(equal(1, 1, 1))\n",
    "print(equal(3, 4, 1))"
   ]
  },
  {
   "cell_type": "code",
   "execution_count": 9,
   "id": "8a798081",
   "metadata": {},
   "outputs": [
    {
     "name": "stdout",
     "output_type": "stream",
     "text": [
      "[('D', 1), ('B', 2), ('C', 3)]\n",
      "[('likes', 2), ('dislikes', 3), ('followers', 10)]\n"
     ]
    }
   ],
   "source": [
    "# Write a function that converts a dictionary into a list of keys-values tuples.\n",
    "# Examples\n",
    "# dict_to_list({\n",
    "# 'D': 1,\n",
    "# 'B': 2,\n",
    "# 'C': 3}) ➞ [('B', 2), ('C', 3), ('D', 1)]\n",
    "# dict_to_list({\n",
    "# 'likes': 2,\n",
    "# 'dislikes': 3,\n",
    "# 'followers': 10}) ➞ [('dislikes', 3), ('followers', 10), ('likes', 2)]\n",
    "# Notes\n",
    "# Return the elements in the list in alphabetical order.\n",
    "\n",
    "def dict_to_list(lst):\n",
    "    return list(lst.items())\n",
    "print(dict_to_list({'D': 1,'B': 2,'C': 3}))\n",
    "print(dict_to_list({'likes': 2,'dislikes': 3, 'followers': 10}))"
   ]
  },
  {
   "cell_type": "code",
   "execution_count": 13,
   "id": "6240cdaf",
   "metadata": {},
   "outputs": [
    {
     "name": "stdout",
     "output_type": "stream",
     "text": [
      "{'p': 'P', 's': 'S'}\n",
      "{'a': 'A', 'b': 'B', 'c': 'C'}\n",
      "{'a': 'A', 'v': 'V', 'y': 'Y', 'z': 'Z'}\n"
     ]
    }
   ],
   "source": [
    "# Write a function that creates a dictionary with each (key, value) pair being the (lower case,\n",
    "# upper case) versions of a letter, respectively.\n",
    "# Examples\n",
    "# mapping(['p', 's']) ➞ { 'p': 'P', 's': 'S' }\n",
    "\n",
    "# mapping(['a', 'b', 'c']) ➞ { 'a': 'A', 'b': 'B', 'c': 'C' }\n",
    "# mapping(['a', 'v', 'y', 'z']) ➞ { 'a': 'A', 'v': 'V', 'y': 'Y', 'z': 'Z' }\n",
    "# Notes\n",
    "# All of the letters in the input list will always be lowercase.\n",
    "\n",
    "def mapping(lst):\n",
    "    return {i.lower():i.upper() for i in lst}\n",
    "print(mapping(['p', 's']))\n",
    "print(mapping(['a', 'b', 'c']))\n",
    "print(mapping(['a', 'v', 'y', 'z']))"
   ]
  },
  {
   "cell_type": "code",
   "execution_count": 17,
   "id": "bb7b4f12",
   "metadata": {},
   "outputs": [
    {
     "name": "stdout",
     "output_type": "stream",
     "text": [
      "upplus und bununus\n",
      "chooso cossorolo\n",
      "steffed jelepene peppers\n"
     ]
    }
   ],
   "source": [
    "# Write a function, that replaces all vowels in a string with a specified vowel.\n",
    "# Examples\n",
    "# vow_replace('apples and bananas', 'u') ➞ 'upplus und bununus'\n",
    "# vow_replace('cheese casserole', 'o') ➞ 'chooso cossorolo'\n",
    "# vow_replace('stuffed jalapeno poppers', 'e') ➞ 'steffed jelepene peppers'\n",
    "# Notes\n",
    "# All words will be lowercase. Y is not considered a vowel.\n",
    "\n",
    "\n",
    "\n",
    "def vow_replace(s,ch):\n",
    "    vowel ='AEIOUaeiuo'\n",
    "    s1 = []\n",
    "    for i in range(len(s)):\n",
    "        if s[i] in vowel:\n",
    "            s1.append(ch)\n",
    "        else:\n",
    "            s1.append(s[i])\n",
    "\n",
    "    return ''.join((s1))\n",
    "print(vow_replace('apples and bananas', 'u'))\n",
    "print(vow_replace('cheese casserole', 'o'))\n",
    "print(vow_replace('stuffed jalapeno poppers', 'e'))"
   ]
  },
  {
   "cell_type": "code",
   "execution_count": 18,
   "id": "b3bdf956",
   "metadata": {},
   "outputs": [
    {
     "name": "stdout",
     "output_type": "stream",
     "text": [
      "To Be oR NoT To Be!\n",
      "THe LiTTLe meRmaiD\n",
      "oH wHaT a BeauTiFuL moRNiNg.\n"
     ]
    }
   ],
   "source": [
    "# Create a function that takes a string as input and capitalizes a letter if its ASCII code is even\n",
    "# and returns its lower case version if its ASCII code is odd.\n",
    "# Examples\n",
    "# ascii_capitalize('to be or not to be!') ➞ 'To Be oR NoT To Be!'\n",
    "# ascii_capitalize('THE LITTLE MERMAID') ➞ 'THe LiTTLe meRmaiD'\n",
    "# ascii_capitalize('Oh what a beautiful morning.') ➞ 'oH wHaT a BeauTiFuL moRNiNg.'\n",
    "\n",
    "def ascii_capitalize(s):\n",
    "    s1 = []\n",
    "    for i in range(len(s)):\n",
    "        if ord(s[i]) % 2 == 0:\n",
    "            s1.append(s[i].upper())\n",
    "        else:\n",
    "            s1.append(s[i].lower())\n",
    "\n",
    "    return \"\".join((s1))\n",
    "print(ascii_capitalize('to be or not to be!'))\n",
    "print(ascii_capitalize('THE LITTLE MERMAID'))\n",
    "print(ascii_capitalize('Oh what a beautiful morning.'))"
   ]
  }
 ],
 "metadata": {
  "kernelspec": {
   "display_name": "Python 3 (ipykernel)",
   "language": "python",
   "name": "python3"
  },
  "language_info": {
   "codemirror_mode": {
    "name": "ipython",
    "version": 3
   },
   "file_extension": ".py",
   "mimetype": "text/x-python",
   "name": "python",
   "nbconvert_exporter": "python",
   "pygments_lexer": "ipython3",
   "version": "3.9.7"
  }
 },
 "nbformat": 4,
 "nbformat_minor": 5
}
