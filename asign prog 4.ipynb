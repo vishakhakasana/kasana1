{
 "cells": [
  {
   "cell_type": "code",
   "execution_count": 2,
   "id": "f2fce04d",
   "metadata": {},
   "outputs": [
    {
     "name": "stdout",
     "output_type": "stream",
     "text": [
      "enter the number5\n",
      "factorial: 120\n"
     ]
    }
   ],
   "source": [
    "# # write python program to find factorial of a number?\n",
    "\n",
    "num=int(input(\"enter the number\"))\n",
    "fact = 1\n",
    "for i in range(num):\n",
    "    fact*=num\n",
    "    num-=1\n",
    "    if(num==0):\n",
    "        break;\n",
    "print(\"factorial:\",fact) "
   ]
  },
  {
   "cell_type": "code",
   "execution_count": 3,
   "id": "ebb042a5",
   "metadata": {},
   "outputs": [
    {
     "name": "stdout",
     "output_type": "stream",
     "text": [
      "15 x 1 = 15\n",
      "15 x 2 = 30\n",
      "15 x 3 = 45\n",
      "15 x 4 = 60\n",
      "15 x 5 = 75\n",
      "15 x 6 = 90\n",
      "15 x 7 = 105\n",
      "15 x 8 = 120\n",
      "15 x 9 = 135\n",
      "15 x 10 = 150\n",
      "15 x 11 = 165\n",
      "15 x 12 = 180\n",
      "15 x 13 = 195\n"
     ]
    }
   ],
   "source": [
    "# write python program to display multipilication table?\n",
    "num=15\n",
    "for i in range(1,14):\n",
    "    print(num, 'x', i, '=', num*i)"
   ]
  },
  {
   "cell_type": "code",
   "execution_count": 8,
   "id": "b1f70d09",
   "metadata": {},
   "outputs": [
    {
     "name": "stdout",
     "output_type": "stream",
     "text": [
      "how many terms you want: 7\n",
      "0\n",
      "1\n",
      "1\n",
      "2\n",
      "3\n",
      "5\n",
      "8\n"
     ]
    }
   ],
   "source": [
    "# write python program to print fibonaccic series?\n",
    "n=int(input(\"how many terms you want: \"))\n",
    "n1,n2=0,1\n",
    "count=0\n",
    "if n<0:\n",
    "    print(\"enter positive value!\")\n",
    "elif n==1:\n",
    "    print(n)\n",
    "else:\n",
    "    while count<n:\n",
    "        print(n1)\n",
    "        n3=n1+n2\n",
    "        n1=n2\n",
    "        n2=n3\n",
    "        count=count+1"
   ]
  },
  {
   "cell_type": "code",
   "execution_count": 1,
   "id": "4679af23",
   "metadata": {},
   "outputs": [
    {
     "name": "stdout",
     "output_type": "stream",
     "text": [
      "Enter a number: 407\n",
      "407 is an Armstrong number\n"
     ]
    }
   ],
   "source": [
    "# write python program to check armstrong number or not?\n",
    "num = int(input(\"Enter a number: \"))\n",
    "sum = 0\n",
    "temp = num\n",
    "while temp > 0:\n",
    "   digit = temp % 10\n",
    "   sum += digit ** 3\n",
    "   temp //=10\n",
    "if num == sum:\n",
    "   print(num,\"is an Armstrong number\")\n",
    "else:\n",
    "   print(num,\"is not an Armstrong number\")"
   ]
  },
  {
   "cell_type": "code",
   "execution_count": 4,
   "id": "be586d49",
   "metadata": {},
   "outputs": [
    {
     "name": "stdout",
     "output_type": "stream",
     "text": [
      "153\n",
      "370\n",
      "371\n",
      "407\n",
      "1634\n"
     ]
    }
   ],
   "source": [
    "# write python program  to find armstrong number in an interval?\n",
    "lower=100\n",
    "upper=2000\n",
    "for num in range(lower,upper+1):\n",
    "    order=len(str(num))\n",
    "    sum=0\n",
    "    temp=num\n",
    "    while temp>0:\n",
    "        digit=temp%10\n",
    "        sum+=digit**order\n",
    "        temp//=10\n",
    "    if num==sum:\n",
    "        print(num)"
   ]
  },
  {
   "cell_type": "code",
   "execution_count": 7,
   "id": "0049270a",
   "metadata": {},
   "outputs": [
    {
     "name": "stdout",
     "output_type": "stream",
     "text": [
      "enter the number16\n",
      "the sum is 136\n"
     ]
    }
   ],
   "source": [
    "# write python program  to find the sum of natural number?\n",
    "num=int(input(\"enter the number\"))\n",
    "if num<0:\n",
    "    print(\"enter positive number\")\n",
    "else:\n",
    "    sum=0\n",
    "    while(num>0):\n",
    "        sum+=num\n",
    "        num-=1\n",
    "    print(\"the sum is\",sum)"
   ]
  }
 ],
 "metadata": {
  "kernelspec": {
   "display_name": "Python 3 (ipykernel)",
   "language": "python",
   "name": "python3"
  },
  "language_info": {
   "codemirror_mode": {
    "name": "ipython",
    "version": 3
   },
   "file_extension": ".py",
   "mimetype": "text/x-python",
   "name": "python",
   "nbconvert_exporter": "python",
   "pygments_lexer": "ipython3",
   "version": "3.9.7"
  }
 },
 "nbformat": 4,
 "nbformat_minor": 5
}
