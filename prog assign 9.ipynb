{
 "cells": [
  {
   "cell_type": "code",
   "execution_count": 4,
   "id": "fcbe2fb8",
   "metadata": {},
   "outputs": [
    {
     "name": "stdout",
     "output_type": "stream",
     "text": [
      "enter the number: 28\n",
      "28 is a disarium number\n"
     ]
    }
   ],
   "source": [
    "# 1. Write a Python program to check if the given number is a Disarium Number?\n",
    "\n",
    "num=int(input(\"enter the number: \"))\n",
    "sum=0\n",
    "i=1\n",
    "while i<num:\n",
    "    if num%i==0:\n",
    "        sum=sum+i\n",
    "    i=i+1\n",
    "if num ==sum:\n",
    "    print(num, \"is a disarium number\")\n",
    "else:\n",
    "    print(num,\"is not a disarium number\")\n",
    "          "
   ]
  },
  {
   "cell_type": "code",
   "execution_count": 18,
   "id": "cf209895",
   "metadata": {},
   "outputs": [
    {
     "name": "stdout",
     "output_type": "stream",
     "text": [
      "disarium numbers between 1 to 100 are: \n",
      "1\n",
      "2\n",
      "3\n",
      "4\n",
      "5\n",
      "6\n",
      "7\n",
      "8\n",
      "9\n",
      "89\n"
     ]
    }
   ],
   "source": [
    "# 2. Write a Python program to print all disarium numbers between 1 to 100?\n",
    "def calculatelen(n):\n",
    "    len=0\n",
    "    while(n!=0):\n",
    "        len=len+1\n",
    "        n=n//10\n",
    "    return len\n",
    "def sumofdigits(num):\n",
    "    rem=sum=0\n",
    "    len=calculatelen(num)\n",
    "    while(num>0):\n",
    "        rem=num%10\n",
    "        sum=sum+(rem**len)\n",
    "        num=num//10\n",
    "        len=len-1\n",
    "    return sum\n",
    "result=0\n",
    "print(\"disarium numbers between 1 to 100 are: \")\n",
    "for i in range(1,101):\n",
    "    result=sumofdigits(i)\n",
    "    if(result==i):\n",
    "        print(i)\n"
   ]
  },
  {
   "cell_type": "code",
   "execution_count": 11,
   "id": "edda222a",
   "metadata": {},
   "outputs": [
    {
     "name": "stdout",
     "output_type": "stream",
     "text": [
      "enter the number: 13\n",
      "13  is a happy number \n"
     ]
    }
   ],
   "source": [
    "# 3. Write a Python program to check if the given number is Happy Number?\n",
    "num=int(input(\"enter the number: \"))\n",
    "temp=num\n",
    "while sum!=1 and sum!=4:\n",
    "    sum=0\n",
    "    while temp!=0:\n",
    "        rem=int(temp%10)\n",
    "        sum=sum+rem*rem\n",
    "        temp=temp//10\n",
    "    temp=sum\n",
    "if(sum==1): \n",
    "     print(num,\" is a happy number \")\n",
    "else:\n",
    "     print(num,\" is a unhappy number \")\n",
    "    "
   ]
  },
  {
   "cell_type": "code",
   "execution_count": 8,
   "id": "3de544e3",
   "metadata": {},
   "outputs": [
    {
     "name": "stdout",
     "output_type": "stream",
     "text": [
      "enter the number (upper limit) :100\n",
      "1\n",
      "7\n",
      "10\n",
      "13\n",
      "19\n",
      "23\n",
      "28\n",
      "31\n",
      "32\n",
      "44\n",
      "49\n",
      "68\n",
      "70\n",
      "79\n",
      "82\n",
      "86\n",
      "91\n",
      "94\n",
      "97\n",
      "100\n"
     ]
    }
   ],
   "source": [
    "# 4. Write a Python program to print all happy numbers between 1 and 100?\n",
    "limit=int(input(\"enter the number (upper limit) :\"))\n",
    "for i in range(1,limit+1):\n",
    "    num=i\n",
    "    sum=0\n",
    "    while(sum!=1 and sum!=4):\n",
    "        sum=0\n",
    "        while(num>0):\n",
    "            temp=num%10\n",
    "            sum+=(temp*temp)\n",
    "            num=num//10\n",
    "        num=sum\n",
    "    if(sum==1):\n",
    "        print(i)\n",
    "        "
   ]
  },
  {
   "cell_type": "code",
   "execution_count": 48,
   "id": "a93fdfb8",
   "metadata": {},
   "outputs": [
    {
     "name": "stdout",
     "output_type": "stream",
     "text": [
      "enter the number: 81\n",
      "81 is a harshad number\n"
     ]
    }
   ],
   "source": [
    "# 5. Write a Python program to determine whether the given number is a Harshad Number?\n",
    "num=int(input(\"enter the number: \"))\n",
    "temp=num\n",
    "sum=0\n",
    "while(temp!=0):\n",
    "    rem=temp%10\n",
    "    sum=sum+rem\n",
    "    temp=int(temp/10)\n",
    "if num%sum==0:\n",
    "    print(num,\"is a harshad number\")\n",
    "else:\n",
    "    print(num,\"is not a harshad number\")"
   ]
  },
  {
   "cell_type": "code",
   "execution_count": 50,
   "id": "41cb428b",
   "metadata": {},
   "outputs": [
    {
     "name": "stdout",
     "output_type": "stream",
     "text": [
      "enter the number: 20\n",
      "Pronic number\n"
     ]
    }
   ],
   "source": [
    "# 6. Write a Python program to print all pronic numbers between 1 and 100?\n",
    "n=int(input(\"enter the number: \"))\n",
    "f=0\n",
    "for i in range(n):\n",
    "    if i*(i+1)==n:\n",
    "        f=1\n",
    "        break\n",
    "if f==1:\n",
    "    print(\"Pronic number\")\n",
    "else:\n",
    "    print(\"Not a Pronic number\")"
   ]
  }
 ],
 "metadata": {
  "kernelspec": {
   "display_name": "Python 3 (ipykernel)",
   "language": "python",
   "name": "python3"
  },
  "language_info": {
   "codemirror_mode": {
    "name": "ipython",
    "version": 3
   },
   "file_extension": ".py",
   "mimetype": "text/x-python",
   "name": "python",
   "nbconvert_exporter": "python",
   "pygments_lexer": "ipython3",
   "version": "3.9.7"
  }
 },
 "nbformat": 4,
 "nbformat_minor": 5
}
