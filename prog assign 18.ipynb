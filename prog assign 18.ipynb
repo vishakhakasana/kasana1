{
 "cells": [
  {
   "cell_type": "code",
   "execution_count": 7,
   "id": "4d52b0af",
   "metadata": {},
   "outputs": [
    {
     "name": "stdout",
     "output_type": "stream",
     "text": [
      "[1, 0, 15]\n"
     ]
    }
   ],
   "source": [
    "# Question 1\n",
    "# Create a function that takes a list of non-negative integers and strings and return a new list\n",
    "# without the strings.\n",
    "# Examples\n",
    "# filter_list([1, 2, 'a', 'b']) ➞ [1, 2]\n",
    "# filter_list([1, 'a', 'b', 0, 15]) ➞ [1, 0, 15]\n",
    "# filter_list([1, 2, 'aasf', '1', '123', 123]) ➞ [1, 2, 123]\n",
    "\n",
    "\n",
    "l=[1, 'a', 'b', 0, 15]\n",
    "\n",
    "def filter_list(l):\n",
    "    s=[]\n",
    "    for i in l:\n",
    "        if type(i)==int:\n",
    "            s.append(i)    \n",
    "    return s\n",
    "print(filter_list(l))"
   ]
  },
  {
   "cell_type": "code",
   "execution_count": 14,
   "id": "6a6725e7",
   "metadata": {},
   "outputs": [
    {
     "name": "stdout",
     "output_type": "stream",
     "text": [
      "DLROw OLLEH\n"
     ]
    }
   ],
   "source": [
    "# The 'Reverser' takes a string as input and returns that string in reverse order, with the\n",
    "# opposite case.\n",
    "# Examples\n",
    "# reverse('Hello World') ➞ 'DLROw OLLEh'\n",
    "# reverse('ReVeRsE') ➞ 'eSrEvEr'\n",
    "# reverse('Radar') ➞ 'RADAr'\n",
    "\n",
    "\n",
    "def reverse(str):\n",
    "    str=str[::-1]\n",
    "    return str.swapcase()\n",
    "print(reverse(\"hello World\"))"
   ]
  },
  {
   "cell_type": "code",
   "execution_count": 29,
   "id": "dbdd593f",
   "metadata": {},
   "outputs": [
    {
     "name": "stdout",
     "output_type": "stream",
     "text": [
      "first: 1\n",
      "middle: [2, 3, 4, 5]\n",
      "last: 6\n"
     ]
    }
   ],
   "source": [
    "# You can assign variables from lists like this:\n",
    "# lst = [1, 2, 3, 4, 5, 6]\n",
    "# first = lst[0]\n",
    "# middle = lst[1:-1]\n",
    "# last = lst[-1]\n",
    "# print(first) ➞ outputs 1\n",
    "# print(middle) ➞ outputs [2, 3, 4, 5]\n",
    "# print(last) ➞ outputs 6\n",
    "# With Python 3, you can assign variables from lists in a much more succinct way. Create\n",
    "# variables first, middle and last from the given list using destructuring assignment\n",
    "# (check the Resources tab for some examples), where:\n",
    "# first ➞ 1\n",
    "# middle ➞ [2, 3, 4, 5]\n",
    "# last ➞ 6\n",
    "\n",
    "# Your task is to unpack the list writeyourcodehere into three variables, being first,\n",
    "# middle, and last, with middle being everything in between the first and last element. Then\n",
    "# print all three variables.\n",
    "\n",
    "\n",
    "l=[1,2,3,4,5,6]\n",
    "l=first,middle,last\n",
    "print(\"first:\", first)\n",
    "print(\"middle:\",middle)\n",
    "print(\"last:\",last)"
   ]
  },
  {
   "cell_type": "code",
   "execution_count": 31,
   "id": "5b335a9d",
   "metadata": {},
   "outputs": [
    {
     "name": "stdout",
     "output_type": "stream",
     "text": [
      "entr number: 3\n",
      "factorial of 3 is 6\n"
     ]
    }
   ],
   "source": [
    "# Write a function that calculates the factorial of a number recursively.\n",
    "# Examples\n",
    "# factorial(5) ➞ 120\n",
    "# factorial(3) ➞ 6\n",
    "# factorial(1) ➞ 1\n",
    "# factorial(0) ➞ 1\n",
    "\n",
    "\n",
    "def factorial(n):\n",
    "    if n==0:\n",
    "        return 1\n",
    "    return n*factorial(n-1)\n",
    "num=int(input(\"entr number: \"))\n",
    "print(\"factorial of\",num ,\"is\",factorial(num))"
   ]
  },
  {
   "cell_type": "code",
   "execution_count": 48,
   "id": "4350f0d1",
   "metadata": {},
   "outputs": [
    {
     "name": "stdout",
     "output_type": "stream",
     "text": [
      "modified element move list is: [3, 2, 4, 4, 1, 1]\n"
     ]
    }
   ],
   "source": [
    "# Write a function that moves all elements of one type to the end of the list.\n",
    "# Examples\n",
    "# move_to_end([1, 3, 2, 4, 4, 1], 1) ➞ [3, 2, 4, 4, 1, 1]\n",
    "# Move all the 1s to the end of the array.\n",
    "# move_to_end([7, 8, 9, 1, 2, 3, 4], 9) ➞ [7, 8, 1, 2, 3, 4, 9]\n",
    "# move_to_end(['a', 'a', 'a', 'b'], 'a') ➞ ['b', 'a', 'a', '\n",
    "\n",
    "test_list=[1, 3, 2, 4, 4, 1]\n",
    "test_list.append(test_list.pop(test_list.index(1)))\n",
    "print(\"modified element move list is: \" +str(test_list))"
   ]
  }
 ],
 "metadata": {
  "kernelspec": {
   "display_name": "Python 3 (ipykernel)",
   "language": "python",
   "name": "python3"
  },
  "language_info": {
   "codemirror_mode": {
    "name": "ipython",
    "version": 3
   },
   "file_extension": ".py",
   "mimetype": "text/x-python",
   "name": "python",
   "nbconvert_exporter": "python",
   "pygments_lexer": "ipython3",
   "version": "3.9.7"
  }
 },
 "nbformat": 4,
 "nbformat_minor": 5
}
