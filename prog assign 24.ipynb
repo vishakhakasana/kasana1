{
 "cells": [
  {
   "cell_type": "code",
   "execution_count": 6,
   "id": "7857e5da",
   "metadata": {},
   "outputs": [
    {
     "name": "stdout",
     "output_type": "stream",
     "text": [
      "[1, 2, 3, 40]\n",
      "[1, 2, 3]\n",
      "[1, 2, 3, 40, 5, 6, 7, 80, 9, 10, 11, 120, 13, 14, 15, 160, 17, 18, 19, 200, 21, 22, 23, 240, 25]\n"
     ]
    }
   ],
   "source": [
    "# Create a function that takes an integer and returns a list from 1 to the given number, where:\n",
    "# 1. If the number can be divided evenly by 4, amplify it by 10 (i.e. return 10 times the number).\n",
    "# 2. If the number cannot be divided evenly by 4, simply return the number.\n",
    "# Examples\n",
    "# amplify(4) ➞ [1, 2, 3, 40]\n",
    "# amplify(3) ➞ [1, 2, 3]\n",
    "# amplify(25) ➞ [1, 2, 3, 40, 5, 6, 7, 80, 9, 10, 11, 120, 13, 14, 15, 160, 17, 18, 19, 200, 21, 22, 23, 240, 25]\n",
    "# Notes\n",
    "#  The given integer will always be equal to or greater than 1.\n",
    "#  Include the number (see example above).\n",
    "#  To perform this problem with its intended purpose, try doing it with list\n",
    "# comprehensions. If that's too difficult, just solve the challenge any way you can.\n",
    "\n",
    "def amplify(n):\n",
    "    return [i*10 if i % 4 == 0 else i for i in range(1,n+1) ]\n",
    "print(amplify(4))\n",
    "print(amplify(3))\n",
    "print(amplify(25))"
   ]
  },
  {
   "cell_type": "code",
   "execution_count": 7,
   "id": "968756a3",
   "metadata": {},
   "outputs": [
    {
     "name": "stdout",
     "output_type": "stream",
     "text": [
      "7\n",
      "0.77\n",
      "0\n"
     ]
    }
   ],
   "source": [
    "# Create a function that takes a list of numbers and return the number that's unique.\n",
    "# Examples\n",
    "# unique([3, 3, 3, 7, 3, 3]) ➞ 7\n",
    "# unique([0, 0, 0.77, 0, 0]) ➞ 0.77\n",
    "# unique([0, 1, 1, 1, 1, 1, 1, 1]) ➞ 0\n",
    "# Notes\n",
    "# Test cases will always have exactly one unique number while all others are the same.\n",
    "\n",
    "def unique(lst):\n",
    "    s = list(set(lst))\n",
    "    for i in s:\n",
    "        if lst.count(i) == 1:\n",
    "            return i\n",
    "print(unique([3, 3, 3, 7, 3, 3]))\n",
    "print(unique([0, 0, 0.77, 0, 0]))\n",
    "print(unique([0, 1, 1, 1, 1, 1, 1, 1]))"
   ]
  },
  {
   "cell_type": "code",
   "execution_count": 8,
   "id": "15ec870f",
   "metadata": {},
   "outputs": [
    {
     "data": {
      "text/plain": [
       "380"
      ]
     },
     "execution_count": 8,
     "metadata": {},
     "output_type": "execute_result"
    }
   ],
   "source": [
    "# Your task is to create a Circle constructor that creates a circle with a radius provided by an\n",
    "# argument. The circles constructed must have two getters getArea() (PIr^2) and\n",
    "# getPerimeter() (2PI*r) which give both respective areas and perimeter (circumference).\n",
    "\n",
    "# For help with this class, I have provided you with a Rectangle constructor which you can use as a base example.\n",
    "# Examples\n",
    "# circy = Circle(11)\n",
    "# circy.getArea()\n",
    "# Should return 380.132711084365\n",
    "# circy = Circle(4.44)\n",
    "# circy.getPerimeter()\n",
    "# Should return 27.897342763877365\n",
    "# Notes\n",
    "# Round results up to the nearest integer.\n",
    "\n",
    "class Circle():\n",
    "    def __init__(self, r):\n",
    "        self.radius = r\n",
    "\n",
    "    def getArea(self):\n",
    "        return round(self.radius**2*3.14)\n",
    "    \n",
    "    def getPerimeter(self):\n",
    "        return round(2*self.radius*3.14)\n",
    "circy = Circle(11)\n",
    "circy.getArea()"
   ]
  },
  {
   "cell_type": "code",
   "execution_count": 11,
   "id": "895c5ba7",
   "metadata": {},
   "outputs": [
    {
     "name": "stdout",
     "output_type": "stream",
     "text": [
      "['Apple', 'Google', 'Microsoft']\n",
      "['Raphael', 'Leonardo', 'Donatello', 'Michelangelo']\n",
      "['Jung', 'Turing', 'Einstein']\n"
     ]
    }
   ],
   "source": [
    "# Create a function that takes a list of strings and return a list, sorted from shortest to longest.\n",
    "# Examples\n",
    "# sort_by_length(['Google', 'Apple', 'Microsoft'])\n",
    "# ➞ ['Apple', 'Google', 'Microsoft']\n",
    "# sort_by_length(['Leonardo', 'Michelangelo', 'Raphael', 'Donatello'])\n",
    "# ➞ ['Raphael', 'Leonardo', 'Donatello', 'Michelangelo']\n",
    "# sort_by_length(['Turing', 'Einstein', 'Jung'])\n",
    "# ➞ ['Jung', 'Turing', 'Einstein']\n",
    "# Notes\n",
    "# All test cases contain lists with strings of different lengths, so you won't have to deal with\n",
    "# multiple strings of the same length.\n",
    "\n",
    "def sort_by_length(lst):\n",
    "    return sorted(lst, key = len)\n",
    "print(sort_by_length(['Google', 'Apple', 'Microsoft']))\n",
    "print(sort_by_length(['Leonardo', 'Michelangelo', 'Raphael', 'Donatello']))\n",
    "print(sort_by_length(['Turing', 'Einstein', 'Jung']))"
   ]
  },
  {
   "cell_type": "code",
   "execution_count": 14,
   "id": "65b86dca",
   "metadata": {},
   "outputs": [
    {
     "name": "stdout",
     "output_type": "stream",
     "text": [
      "Triplets\n",
      "True\n",
      "Triplets\n",
      "True\n",
      "not triplet\n",
      "False\n"
     ]
    }
   ],
   "source": [
    "# Create a function that validates whether three given integers form a Pythagorean triplet. The\n",
    "# sum of the squares of the two smallest integers must equal the square of the largest number to be validated.\n",
    "\n",
    "# Examples\n",
    "# is_triplet(3, 4, 5) ➞ True\n",
    "# 3² + 4² = 25\n",
    "# 5² = 25\n",
    "# is_triplet(13, 5, 12) ➞ True\n",
    "# 5² + 12² = 169\n",
    "# 13² = 169\n",
    "# is_triplet(1, 2, 3) ➞ False\n",
    "# 1² + 2² = 5\n",
    "# 3² = 9\n",
    "# Notes\n",
    "# Numbers may not be given in a sorted order.\n",
    "\n",
    "\n",
    "def is_triplet(a,b,c):\n",
    "    lst = []\n",
    "    lst.extend((a,b,c))\n",
    "    lst = sorted(lst)\n",
    "\n",
    "    if lst[0]**2 + lst[1]**2 == lst[2]**2:\n",
    "        print('Triplets')\n",
    "        return True\n",
    "    else:\n",
    "        print(\"not triplet\")\n",
    "        return False\n",
    "print(is_triplet(3, 4, 5))\n",
    "print(is_triplet(13, 5, 12))\n",
    "print(is_triplet(1, 2, 3))"
   ]
  }
 ],
 "metadata": {
  "kernelspec": {
   "display_name": "Python 3 (ipykernel)",
   "language": "python",
   "name": "python3"
  },
  "language_info": {
   "codemirror_mode": {
    "name": "ipython",
    "version": 3
   },
   "file_extension": ".py",
   "mimetype": "text/x-python",
   "name": "python",
   "nbconvert_exporter": "python",
   "pygments_lexer": "ipython3",
   "version": "3.9.7"
  }
 },
 "nbformat": 4,
 "nbformat_minor": 5
}
