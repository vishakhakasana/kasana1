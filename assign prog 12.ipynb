{
 "cells": [
  {
   "cell_type": "code",
   "execution_count": 13,
   "id": "7706e7a7",
   "metadata": {},
   "outputs": [
    {
     "name": "stdout",
     "output_type": "stream",
     "text": [
      "{'sar', 'vish', 'vishu', 'pri'}\n"
     ]
    }
   ],
   "source": [
    "# 1. Write a Python program to Extract Unique values dictionary values?\n",
    "dic={1:\"vish\",2:\"vishu\",3:\"sar\",4:\"vish\",5:\"pri\"}\n",
    "print(set(dic.values()))\n",
    "\n",
    "        "
   ]
  },
  {
   "cell_type": "code",
   "execution_count": 16,
   "id": "3e026807",
   "metadata": {},
   "outputs": [
    {
     "name": "stdout",
     "output_type": "stream",
     "text": [
      "sum of all items :  100\n"
     ]
    }
   ],
   "source": [
    "#  2. Write a Python program to find the sum of all items in a dictionary?\n",
    "dic={'a':10,'b':20,'c':30,'d':40}\n",
    "total=sum(dic.values())\n",
    "print(\"sum of all items : \",total)"
   ]
  },
  {
   "cell_type": "code",
   "execution_count": 17,
   "id": "96566585",
   "metadata": {},
   "outputs": [
    {
     "name": "stdout",
     "output_type": "stream",
     "text": [
      "{1: 'vishakha', 2: 'kasana'}\n"
     ]
    }
   ],
   "source": [
    "# 3. Write a Python program to Merging two Dictionaries?\n",
    "d1={1:'vishakha'}\n",
    "d2={2:'kasana'}\n",
    "d3={**d1,**d2}\n",
    "print(d3)"
   ]
  },
  {
   "cell_type": "code",
   "execution_count": 19,
   "id": "7cf5456e",
   "metadata": {},
   "outputs": [
    {
     "name": "stdout",
     "output_type": "stream",
     "text": [
      "{'1': 'JAN', '2': 'FEB', '3': 'MARCH', '4': 'APRIL'}\n"
     ]
    }
   ],
   "source": [
    "# 4. Write a Python program to convert key-values list to flat dictionary?\n",
    "d1=['1','2','3','4']\n",
    "d2=['JAN','FEB','MARCH','APRIL']\n",
    "d=dict(zip(d1,d2))\n",
    "print(d)"
   ]
  },
  {
   "cell_type": "code",
   "execution_count": 43,
   "id": "b2856373",
   "metadata": {},
   "outputs": [
    {
     "name": "stdout",
     "output_type": "stream",
     "text": [
      "OrderedDict([('D', '40'), ('A', '10'), ('B', '20'), ('C', '30')])\n"
     ]
    }
   ],
   "source": [
    "# 5. Write a Python program to insertion at the beginning in Ordered dictionary?\n",
    "from collections import OrderedDict\n",
    "dic1=OrderedDict([('A','10'),('B','20'),('C','30')])\n",
    "insrt=OrderedDict([('D','40')])\n",
    "final=OrderedDict(list(insrt.items())+list(dic1.items()))\n",
    "print(final)\n"
   ]
  },
  {
   "cell_type": "code",
   "execution_count": 48,
   "id": "390253a8",
   "metadata": {},
   "outputs": [
    {
     "name": "stdout",
     "output_type": "stream",
     "text": [
      "True\n",
      "True\n"
     ]
    }
   ],
   "source": [
    "# 6. Write a Python program to check order of character in string using OrderedDict()?\n",
    "from collections import OrderedDict\n",
    "def checkorder(string,pattern):\n",
    "    dic=OrderedDict.fromkeys(string)\n",
    "    ptr=0\n",
    "    for key,value in dic.items():\n",
    "        if (key == pattern[ptr]):\n",
    "            ptr=ptr+1\n",
    "        if(ptr == (len(pattern))):\n",
    "            return 'True'\n",
    "    return 'False' \n",
    "string='study tonight'\n",
    "pattern='stu'\n",
    "print(checkorder(string,pattern))\n",
    "string2='welcome'\n",
    "pattern2='cm'\n",
    "print(checkorder(string2,pattern2))"
   ]
  },
  {
   "cell_type": "code",
   "execution_count": 50,
   "id": "0bab0d60",
   "metadata": {},
   "outputs": [
    {
     "name": "stdout",
     "output_type": "stream",
     "text": [
      "[('mon', 1), ('tuesday', 2), ('wednesday', 3)]\n"
     ]
    }
   ],
   "source": [
    "# 7. Write a Python program to sort Python Dictionaries by Key or Value?\n",
    "dic={'mon':1,'tuesday':2,'wednesday':3,}\n",
    "print(sorted(dic.items()))"
   ]
  }
 ],
 "metadata": {
  "kernelspec": {
   "display_name": "Python 3 (ipykernel)",
   "language": "python",
   "name": "python3"
  },
  "language_info": {
   "codemirror_mode": {
    "name": "ipython",
    "version": 3
   },
   "file_extension": ".py",
   "mimetype": "text/x-python",
   "name": "python",
   "nbconvert_exporter": "python",
   "pygments_lexer": "ipython3",
   "version": "3.9.7"
  }
 },
 "nbformat": 4,
 "nbformat_minor": 5
}
