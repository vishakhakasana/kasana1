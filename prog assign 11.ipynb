{
 "cells": [
  {
   "cell_type": "code",
   "execution_count": 1,
   "id": "9acf1e97",
   "metadata": {},
   "outputs": [
    {
     "name": "stdout",
     "output_type": "stream",
     "text": [
      "kasana\n",
      "vishakha\n"
     ]
    }
   ],
   "source": [
    "# 1. Write a Python program to find words which are greater than given length k?\n",
    "list=[\"kasana\",\"vish\",\"vishakha\",\"cute\",\"girl\"]\n",
    "for ele in list:\n",
    "    if(len(ele)>5):\n",
    "        print(ele)"
   ]
  },
  {
   "cell_type": "code",
   "execution_count": 2,
   "id": "d24d30fd",
   "metadata": {},
   "outputs": [
    {
     "name": "stdout",
     "output_type": "stream",
     "text": [
      "enter the string: vishakha\n",
      "enter the value of I3\n",
      "resultant string is = vihakha\n"
     ]
    }
   ],
   "source": [
    "# 2. Write a Python program for removing i-th character from a string?\n",
    "s=input(\"enter the string: \")\n",
    "n=int(input(\"enter the value of I\"))\n",
    "a=s[0:n-1]\n",
    "b=s[n:]\n",
    "print(\"resultant string is =\",a+b)"
   ]
  },
  {
   "cell_type": "code",
   "execution_count": 17,
   "id": "3d47cb84",
   "metadata": {},
   "outputs": [
    {
     "name": "stdout",
     "output_type": "stream",
     "text": [
      "['i', 'am', 'a', 'good', 'and', 'honest', 'girl']\n",
      "i am a good and honest girl\n"
     ]
    }
   ],
   "source": [
    "# 3. Write a Python program to split and join a string?\n",
    "str= (\"i am a good and honest girl\")\n",
    "print(str.split())\n",
    "print(\"\".join(str))\n",
    "\n"
   ]
  },
  {
   "cell_type": "code",
   "execution_count": 21,
   "id": "cc5dcabe",
   "metadata": {},
   "outputs": [
    {
     "name": "stdout",
     "output_type": "stream",
     "text": [
      "str1 is a binary string\n",
      "str2 is not a binary string\n"
     ]
    }
   ],
   "source": [
    "# 4. Write a Python to check if a given string is binary string or not?\n",
    "str1='01100011100011'\n",
    "a={'0','1'}\n",
    "t=set(str1)\n",
    "if a==t or t=={'0'} or t =={'1'}:\n",
    "    print(\"str1 is a binary string\")\n",
    "else:\n",
    "    print(\"str1 is not a binary string\")\n",
    "str2='00210011011'\n",
    "u=set(str2)\n",
    "if a==u or a=={'0'} or a=={'1'}:\n",
    "     print(\"str2 is a binary string\")\n",
    "else:\n",
    "    print(\"str2 is not a binary string\")"
   ]
  },
  {
   "cell_type": "code",
   "execution_count": 24,
   "id": "d2760dd2",
   "metadata": {},
   "outputs": [
    {
     "name": "stdout",
     "output_type": "stream",
     "text": [
      "all uncomman words from both the string are  ['my', 'name', 'a', 'girl']\n"
     ]
    }
   ],
   "source": [
    "# 5. Write a Python program to find uncommon words from two Strings?\n",
    "str1= (\"my name is vishakha kasana\")\n",
    "str2= (\"vishakha kasana is a girl\")\n",
    "count={}\n",
    "for word in str1.split():\n",
    "    count[word]=count.get(word,0)+1\n",
    "for word in str2.split():\n",
    "    count[word]=count.get(word,0)+1\n",
    "uncommanwords=[word for word in count if count[word]==1]\n",
    "print(\"all uncomman words from both the string are \",uncommanwords)"
   ]
  },
  {
   "cell_type": "code",
   "execution_count": 39,
   "id": "3f826226",
   "metadata": {},
   "outputs": [
    {
     "name": "stdout",
     "output_type": "stream",
     "text": [
      "['s', 'h', 'a', 'k']\n"
     ]
    }
   ],
   "source": [
    "# 6. Write a Python to find all duplicate characters in string?\n",
    "\n",
    "str= \"vishakha kasana\"\n",
    "result=[]\n",
    "for i in str:\n",
    "    if str.count(i)>1:\n",
    "        if i not in result:\n",
    "            result.append(i)\n",
    "print(result)"
   ]
  },
  {
   "cell_type": "code",
   "execution_count": 42,
   "id": "eb61302c",
   "metadata": {},
   "outputs": [
    {
     "name": "stdout",
     "output_type": "stream",
     "text": [
      "string contain special character\n"
     ]
    }
   ],
   "source": [
    "# 7. Write a Python Program to check if a string contains any special character?\n",
    "import re\n",
    "str=\"welcome@#%in*&programming\"\n",
    "regex=re.compile('[@#%&$]')\n",
    "if(regex.search(str)== None):\n",
    "    print(\"no special character present in string\")\n",
    "else:\n",
    "    print(\"string contain special character\")"
   ]
  }
 ],
 "metadata": {
  "kernelspec": {
   "display_name": "Python 3 (ipykernel)",
   "language": "python",
   "name": "python3"
  },
  "language_info": {
   "codemirror_mode": {
    "name": "ipython",
    "version": 3
   },
   "file_extension": ".py",
   "mimetype": "text/x-python",
   "name": "python",
   "nbconvert_exporter": "python",
   "pygments_lexer": "ipython3",
   "version": "3.9.7"
  }
 },
 "nbformat": 4,
 "nbformat_minor": 5
}
