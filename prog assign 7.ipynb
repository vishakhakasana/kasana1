{
 "cells": [
  {
   "cell_type": "code",
   "execution_count": 1,
   "id": "9d89ef0c",
   "metadata": {},
   "outputs": [
    {
     "name": "stdout",
     "output_type": "stream",
     "text": [
      "15\n"
     ]
    }
   ],
   "source": [
    "# 1. Write a Python Program to find sum of array?\n",
    "arr=[1,2,3,4,5]\n",
    "print(sum(arr))\n",
    "   "
   ]
  },
  {
   "cell_type": "code",
   "execution_count": 9,
   "id": "ad6a714e",
   "metadata": {},
   "outputs": [
    {
     "name": "stdout",
     "output_type": "stream",
     "text": [
      "largest element given in array is 68\n"
     ]
    }
   ],
   "source": [
    "# 2. Write a Python Program to find largest element in an array?\n",
    "def largest(arr,n):\n",
    "    max=arr[0]\n",
    "    for i in range(1,n):\n",
    "        if arr[i]>max:\n",
    "            max=arr[i]\n",
    "    return max\n",
    "arr=[25,68,7,4,12,55,12]\n",
    "n=len(arr)\n",
    "lar=largest(arr,n)\n",
    "print(\"largest element given in array is\",lar)"
   ]
  },
  {
   "cell_type": "code",
   "execution_count": 28,
   "id": "abd12909",
   "metadata": {},
   "outputs": [
    {
     "name": "stdout",
     "output_type": "stream",
     "text": [
      "original array: \n",
      "1\n",
      "2\n",
      "3\n",
      "4\n",
      "5\n",
      "\n",
      "array after left rotation: \n",
      "2\n",
      "3\n",
      "4\n",
      "1\n",
      "1\n"
     ]
    }
   ],
   "source": [
    "# 3. Write a Python Program for array rotation?\n",
    "arr=[1,2,3,4,5]\n",
    "n=3\n",
    "print(\"original array: \")\n",
    "for i in range(0,len(arr)):\n",
    "    print(arr[i])\n",
    "for i in range(0,n):\n",
    "    first=arr[0]\n",
    "for j in range(0,len(arr)-1):\n",
    "    arr[j]=arr[j+1]\n",
    "    arr[len(arr)-1] = first\n",
    "print()\n",
    "print(\"array after left rotation: \")  \n",
    "for i in range(0,len(arr)):\n",
    "    print(arr[i])"
   ]
  },
  {
   "cell_type": "code",
   "execution_count": 32,
   "id": "f11b722c",
   "metadata": {},
   "outputs": [
    {
     "name": "stdout",
     "output_type": "stream",
     "text": [
      "10 25 36 45 12 "
     ]
    }
   ],
   "source": [
    "# 4. Write a Python Program to Split the array and add the first part to the end?\n",
    "\n",
    "def splitarr(arr,n,k):\n",
    "    for i in range(0,k):\n",
    "        x=arr[0]\n",
    "        for j in range(0,n-1):\n",
    "            arr[j] = arr[j+1]\n",
    "        arr[n-1] = x    \n",
    "arr=[12,10,25,36,45]\n",
    "n=len(arr)\n",
    "position=1\n",
    "splitarr(arr,n,position)\n",
    "for i in range(0,n):\n",
    "    print(arr[i],end = ' ')\n",
    "    "
   ]
  },
  {
   "cell_type": "code",
   "execution_count": 74,
   "id": "c922faac",
   "metadata": {},
   "outputs": [
    {
     "name": "stdout",
     "output_type": "stream",
     "text": [
      "True\n",
      "False\n"
     ]
    }
   ],
   "source": [
    "# 5. Write a Python Program to check if given array is Monotonic?\n",
    "def monotonic(array):\n",
    "    decreasing = False\n",
    "    if(A[0]>array[1]):\n",
    "        decreasing = True\n",
    "    for i in range(len(array)-1): \n",
    "        if(array[i]<array[i+1] and decreasing or array[i]>array[i+1] and not decreasing):\n",
    "            return False\n",
    "    return True \n",
    "print(monotonic([6,5,4,2]))\n",
    "print(monotonic([6,2,4,2]))"
   ]
  }
 ],
 "metadata": {
  "kernelspec": {
   "display_name": "Python 3 (ipykernel)",
   "language": "python",
   "name": "python3"
  },
  "language_info": {
   "codemirror_mode": {
    "name": "ipython",
    "version": 3
   },
   "file_extension": ".py",
   "mimetype": "text/x-python",
   "name": "python",
   "nbconvert_exporter": "python",
   "pygments_lexer": "ipython3",
   "version": "3.9.7"
  }
 },
 "nbformat": 4,
 "nbformat_minor": 5
}
