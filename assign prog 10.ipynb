{
 "cells": [
  {
   "cell_type": "code",
   "execution_count": 2,
   "id": "3881aab2",
   "metadata": {},
   "outputs": [
    {
     "name": "stdout",
     "output_type": "stream",
     "text": [
      "sum of all elements in list:  45\n"
     ]
    }
   ],
   "source": [
    "# 1. Write a Python program to find sum of elements in list?\n",
    "\n",
    "list=[11,8,7,9,5,3,2]\n",
    "sum=0\n",
    "for i in range(0,len(list)):\n",
    "    sum=sum+list[i]\n",
    "print(\"sum of all elements in list: \", sum)\n"
   ]
  },
  {
   "cell_type": "code",
   "execution_count": 9,
   "id": "27349c89",
   "metadata": {},
   "outputs": [
    {
     "name": "stdout",
     "output_type": "stream",
     "text": [
      "360\n"
     ]
    }
   ],
   "source": [
    "# 2. Write a Python program to Multiply all numbers in the list?\n",
    "l1=[3,4,5,6]\n",
    "res=1\n",
    "for i in l1:\n",
    "    res=res*i\n",
    "print(res)\n",
    "    "
   ]
  },
  {
   "cell_type": "code",
   "execution_count": 13,
   "id": "9c610ca5",
   "metadata": {},
   "outputs": [
    {
     "name": "stdout",
     "output_type": "stream",
     "text": [
      "[4, 5, 7, 56, 67, 98]\n",
      "smallest element is:  4\n"
     ]
    }
   ],
   "source": [
    "# 3. Write a Python program to find smallest number in a list?\n",
    "\n",
    "list=[4,5,98,67,56,7]\n",
    "list.sort()\n",
    "print(list)\n",
    "print(\"smallest element is: \",list[0])"
   ]
  },
  {
   "cell_type": "code",
   "execution_count": 15,
   "id": "81d1d01d",
   "metadata": {},
   "outputs": [
    {
     "name": "stdout",
     "output_type": "stream",
     "text": [
      "[4, 5, 7, 56, 67, 98]\n",
      "largest element is:  98\n"
     ]
    }
   ],
   "source": [
    "# 4. Write a Python program to find largest number in a list?\n",
    "\n",
    "list=[4,5,98,67,56,7]\n",
    "list.sort()\n",
    "print(list)\n",
    "print(\"largest element is: \",list[-1])"
   ]
  },
  {
   "cell_type": "code",
   "execution_count": 16,
   "id": "27a2ff14",
   "metadata": {},
   "outputs": [
    {
     "name": "stdout",
     "output_type": "stream",
     "text": [
      "[4, 5, 7, 56, 67, 98]\n",
      " second largest element is:  67\n"
     ]
    }
   ],
   "source": [
    "# 5. Write a Python program to find second largest number in a list?\n",
    "\n",
    "\n",
    "list=[4,5,98,67,56,7]\n",
    "list.sort()\n",
    "print(list)\n",
    "print(\" second largest element is: \",list[-2])"
   ]
  },
  {
   "cell_type": "code",
   "execution_count": 44,
   "id": "74a68ab2",
   "metadata": {},
   "outputs": [
    {
     "name": "stdout",
     "output_type": "stream",
     "text": [
      "[7, 56, 67, 98]\n"
     ]
    }
   ],
   "source": [
    "# 6. Write a Python program to find N largest elements from a list?\n",
    "\n",
    "list=[4,5,98,67,56,7]\n",
    "list.sort()\n",
    "print(list[-n:])"
   ]
  },
  {
   "cell_type": "code",
   "execution_count": 64,
   "id": "0caad4d3",
   "metadata": {},
   "outputs": [
    {
     "name": "stdout",
     "output_type": "stream",
     "text": [
      "6 8 44 32 22 66 "
     ]
    }
   ],
   "source": [
    "# 7. Write a Python program to print even numbers in a list?\n",
    "\n",
    "list=[6,7,8,45,44,32,22,99,66]\n",
    "for num in list:\n",
    "    if num % 2 == 0:\n",
    "        print(num, end= \" \")"
   ]
  },
  {
   "cell_type": "code",
   "execution_count": 65,
   "id": "40c62b85",
   "metadata": {},
   "outputs": [
    {
     "name": "stdout",
     "output_type": "stream",
     "text": [
      "7 45 99 "
     ]
    }
   ],
   "source": [
    "# 8. Write a Python program to print odd numbers in a List?\n",
    "list=[6,7,8,45,44,32,22,99,66]\n",
    "for num in list:\n",
    "    if num % 2!=0:\n",
    "        print(num, end= \" \")"
   ]
  },
  {
   "cell_type": "code",
   "execution_count": 66,
   "id": "bc6f9323",
   "metadata": {},
   "outputs": [
    {
     "name": "stdout",
     "output_type": "stream",
     "text": [
      "6 7 8 3 1 5 "
     ]
    }
   ],
   "source": [
    "# 9. Write a Python program to Remove empty List from List?\n",
    "list=[6,7,8,[],3,[],1,[],5]\n",
    "for i in list:\n",
    "    if i !=[]:\n",
    "        print(i, end=\" \")"
   ]
  },
  {
   "cell_type": "code",
   "execution_count": 81,
   "id": "f5cec985",
   "metadata": {},
   "outputs": [
    {
     "name": "stdout",
     "output_type": "stream",
     "text": [
      "original list:  [6, 8, 9, 5, 6, 3, 4]\n",
      "new list:  [6, 8, 9, 5, 6, 3, 4]\n"
     ]
    }
   ],
   "source": [
    "# 10. Write a Python program to Cloning or Copying a list?\n",
    "\n",
    "list1=[6,8,9,5,6,3,4]\n",
    "print(\"original list: \", list1)\n",
    "list1_copy=list1.copy()\n",
    "print(\"new list: \", list1_copy)"
   ]
  },
  {
   "cell_type": "code",
   "execution_count": 96,
   "id": "c36d2897",
   "metadata": {},
   "outputs": [
    {
     "name": "stdout",
     "output_type": "stream",
     "text": [
      "6 has occured 5 times\n"
     ]
    }
   ],
   "source": [
    "# 11. Write a Python program to Count occurrences of an element in a list?\n",
    "list=[6,7,5,6,8,6,9,6,3,6]\n",
    "x=6\n",
    "count=0\n",
    "for i in list:\n",
    "    if(i==x):\n",
    "        count=count+1\n",
    "print(\"{} has occured {} times\".format(x,count))        "
   ]
  },
  {
   "cell_type": "code",
   "execution_count": null,
   "id": "0b0947b3",
   "metadata": {},
   "outputs": [],
   "source": []
  }
 ],
 "metadata": {
  "kernelspec": {
   "display_name": "Python 3 (ipykernel)",
   "language": "python",
   "name": "python3"
  },
  "language_info": {
   "codemirror_mode": {
    "name": "ipython",
    "version": 3
   },
   "file_extension": ".py",
   "mimetype": "text/x-python",
   "name": "python",
   "nbconvert_exporter": "python",
   "pygments_lexer": "ipython3",
   "version": "3.9.7"
  }
 },
 "nbformat": 4,
 "nbformat_minor": 5
}
